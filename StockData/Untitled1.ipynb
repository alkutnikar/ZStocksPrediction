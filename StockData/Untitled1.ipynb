{
 "metadata": {
  "name": "",
  "signature": "sha256:fd977ef14b5125716be8bb099d3f62523c93923ff5e909cd892e344067665bbe"
 },
 "nbformat": 3,
 "nbformat_minor": 0,
 "worksheets": [
  {
   "cells": [
    {
     "cell_type": "heading",
     "level": 1,
     "metadata": {},
     "source": [
      "Our Challenge is to Predict the Stock Market"
     ]
    },
    {
     "cell_type": "heading",
     "level": 2,
     "metadata": {},
     "source": [
      "Step 1: Getting the Yahoo Stock Data"
     ]
    },
    {
     "cell_type": "heading",
     "level": 3,
     "metadata": {},
     "source": [
      "Get Companies List"
     ]
    },
    {
     "cell_type": "code",
     "collapsed": false,
     "input": [
      "import feedparser as fp\n",
      "import os\n",
      "from subprocess import call\n",
      "import subprocess\n",
      "import pandas as pd\n",
      "\n",
      "comp=[]\n",
      "sentDict={}\n",
      "compFile = open('../CompanyList.txt');\n",
      "NameFile = open('../CompaniesNames.txt');\n",
      "line = compFile.readlines()\n",
      "comp = line[0].split(' ')\n",
      "i=0\n",
      "newsDict={}\n",
      "\n",
      "compNames = NameFile.readlines()\n",
      "\n",
      "compDict={}\n",
      "name_arr = compNames[0].split(']')\n",
      "for cname in name_arr:\n",
      "    if cname=='\\n':\n",
      "        continue\n",
      "    name = cname.split('(')\n",
      "    tempName = name[0]\n",
      "    if len(name) > 1:\n",
      "        tempAbbr = name[1]\n",
      "    tempName = tempName[:-1].replace('\\n','')\n",
      "    tempAbbr = tempAbbr[:-1]\n",
      "    compDict[str(tempName)] = str(tempAbbr)\n",
      "print compDict"
     ],
     "language": "python",
     "metadata": {},
     "outputs": [
      {
       "ename": "ImportError",
       "evalue": "No module named feedparser",
       "output_type": "pyerr",
       "traceback": [
        "\u001b[1;31m---------------------------------------------------------------------------\u001b[0m\n\u001b[1;31mImportError\u001b[0m                               Traceback (most recent call last)",
        "\u001b[1;32m<ipython-input-2-7fe1b584b528>\u001b[0m in \u001b[0;36m<module>\u001b[1;34m()\u001b[0m\n\u001b[1;32m----> 1\u001b[1;33m \u001b[1;32mimport\u001b[0m \u001b[0mfeedparser\u001b[0m \u001b[1;32mas\u001b[0m \u001b[0mfp\u001b[0m\u001b[1;33m\u001b[0m\u001b[0m\n\u001b[0m\u001b[0;32m      2\u001b[0m \u001b[1;32mimport\u001b[0m \u001b[0mos\u001b[0m\u001b[1;33m\u001b[0m\u001b[0m\n\u001b[0;32m      3\u001b[0m \u001b[1;32mfrom\u001b[0m \u001b[0msubprocess\u001b[0m \u001b[1;32mimport\u001b[0m \u001b[0mcall\u001b[0m\u001b[1;33m\u001b[0m\u001b[0m\n\u001b[0;32m      4\u001b[0m \u001b[1;32mimport\u001b[0m \u001b[0msubprocess\u001b[0m\u001b[1;33m\u001b[0m\u001b[0m\n\u001b[0;32m      5\u001b[0m \u001b[1;32mimport\u001b[0m \u001b[0mpandas\u001b[0m \u001b[1;32mas\u001b[0m \u001b[0mpd\u001b[0m\u001b[1;33m\u001b[0m\u001b[0m\n",
        "\u001b[1;31mImportError\u001b[0m: No module named feedparser"
       ]
      }
     ],
     "prompt_number": 2
    },
    {
     "cell_type": "code",
     "collapsed": false,
     "input": [
      "#Import packages\n",
      "import datetime\n",
      "import pandas as pd\n",
      "import pandas.io.data\n",
      "from pandas import Series, DataFrame\n",
      "import matplotlib.pyplot as plt\n",
      "import matplotlib as mpl\n",
      "mpl.rc('figure',figsize=(8,7))\n",
      "\n",
      "for comp in compDict.keys():\n",
      "    tempStock = pd.io.data.get_data_yahoo(compDict[comp], \n",
      "                                 start=datetime.datetime(2009, 1, 1), \n",
      "                                 end=datetime.datetime(2014, 12, 2))\n",
      "    tempStock.head()\n",
      "    comp = comp.replace(' ','')\n",
      "    \n",
      "    open(comp+'.csv','w')\n",
      "\n",
      "    tempStock.to_csv('data/'+comp+'.csv')\n",
      "print 'All Stock Data Files created.'"
     ],
     "language": "python",
     "metadata": {},
     "outputs": [
      {
       "output_type": "stream",
       "stream": "stdout",
       "text": [
        "All Stock Data Files created.\n"
       ]
      }
     ],
     "prompt_number": 13
    },
    {
     "cell_type": "code",
     "collapsed": false,
     "input": [
      "import datetime\n",
      "\n",
      "import pandas as pd\n",
      "import pandas.io.data\n",
      "from pandas import Series, DataFrame\n",
      "aapl = pd.io.data.get_data_yahoo('AAPL', \n",
      "                                 start=datetime.datetime(2009, 9, 1), \n",
      "                                 end=datetime.datetime(2014, 11, 1))\n",
      "aapl.head(6)"
     ],
     "language": "python",
     "metadata": {},
     "outputs": [
      {
       "html": [
        "<div style=\"max-height:1000px;max-width:1500px;overflow:auto;\">\n",
        "<table border=\"1\" class=\"dataframe\">\n",
        "  <thead>\n",
        "    <tr style=\"text-align: right;\">\n",
        "      <th></th>\n",
        "      <th>Open</th>\n",
        "      <th>High</th>\n",
        "      <th>Low</th>\n",
        "      <th>Close</th>\n",
        "      <th>Volume</th>\n",
        "      <th>Adj Close</th>\n",
        "    </tr>\n",
        "    <tr>\n",
        "      <th>Date</th>\n",
        "      <th></th>\n",
        "      <th></th>\n",
        "      <th></th>\n",
        "      <th></th>\n",
        "      <th></th>\n",
        "      <th></th>\n",
        "    </tr>\n",
        "  </thead>\n",
        "  <tbody>\n",
        "    <tr>\n",
        "      <th>2009-09-01</th>\n",
        "      <td> 167.99</td>\n",
        "      <td> 170.00</td>\n",
        "      <td> 164.94</td>\n",
        "      <td> 165.30</td>\n",
        "      <td> 117257000</td>\n",
        "      <td> 22.36</td>\n",
        "    </tr>\n",
        "    <tr>\n",
        "      <th>2009-09-02</th>\n",
        "      <td> 164.62</td>\n",
        "      <td> 167.61</td>\n",
        "      <td> 164.11</td>\n",
        "      <td> 165.18</td>\n",
        "      <td>  91062300</td>\n",
        "      <td> 22.35</td>\n",
        "    </tr>\n",
        "    <tr>\n",
        "      <th>2009-09-03</th>\n",
        "      <td> 166.44</td>\n",
        "      <td> 167.10</td>\n",
        "      <td> 165.00</td>\n",
        "      <td> 166.55</td>\n",
        "      <td>  73488800</td>\n",
        "      <td> 22.53</td>\n",
        "    </tr>\n",
        "    <tr>\n",
        "      <th>2009-09-04</th>\n",
        "      <td> 167.28</td>\n",
        "      <td> 170.70</td>\n",
        "      <td> 167.09</td>\n",
        "      <td> 170.31</td>\n",
        "      <td>  93657200</td>\n",
        "      <td> 23.04</td>\n",
        "    </tr>\n",
        "    <tr>\n",
        "      <th>2009-09-08</th>\n",
        "      <td> 172.98</td>\n",
        "      <td> 173.14</td>\n",
        "      <td> 172.00</td>\n",
        "      <td> 172.93</td>\n",
        "      <td>  78761900</td>\n",
        "      <td> 23.39</td>\n",
        "    </tr>\n",
        "    <tr>\n",
        "      <th>2009-09-09</th>\n",
        "      <td> 172.78</td>\n",
        "      <td> 174.47</td>\n",
        "      <td> 169.70</td>\n",
        "      <td> 171.14</td>\n",
        "      <td> 202771800</td>\n",
        "      <td> 23.15</td>\n",
        "    </tr>\n",
        "  </tbody>\n",
        "</table>\n",
        "<p>6 rows \u00d7 6 columns</p>\n",
        "</div>"
       ],
       "metadata": {},
       "output_type": "pyout",
       "prompt_number": 17,
       "text": [
        "              Open    High     Low   Close     Volume  Adj Close\n",
        "Date                                                            \n",
        "2009-09-01  167.99  170.00  164.94  165.30  117257000      22.36\n",
        "2009-09-02  164.62  167.61  164.11  165.18   91062300      22.35\n",
        "2009-09-03  166.44  167.10  165.00  166.55   73488800      22.53\n",
        "2009-09-04  167.28  170.70  167.09  170.31   93657200      23.04\n",
        "2009-09-08  172.98  173.14  172.00  172.93   78761900      23.39\n",
        "2009-09-09  172.78  174.47  169.70  171.14  202771800      23.15\n",
        "\n",
        "[6 rows x 6 columns]"
       ]
      }
     ],
     "prompt_number": 17
    },
    {
     "cell_type": "code",
     "collapsed": false,
     "input": [
      "close_px = aapl['Adj Close']\n",
      "%matplotlib inline\n",
      "mavg = pd.rolling_mean(close_px, 40)\n",
      "mavg[-10:]\n",
      "close_px.plot(label='AAPL')\n",
      "mavg.plot(label='mavg')\n",
      "plt.legend()\n",
      "plt.show()"
     ],
     "language": "python",
     "metadata": {},
     "outputs": [
      {
       "ename": "NameError",
       "evalue": "name 'aapl' is not defined",
       "output_type": "pyerr",
       "traceback": [
        "\u001b[1;31m---------------------------------------------------------------------------\u001b[0m\n\u001b[1;31mNameError\u001b[0m                                 Traceback (most recent call last)",
        "\u001b[1;32m<ipython-input-1-f9a9c48984ed>\u001b[0m in \u001b[0;36m<module>\u001b[1;34m()\u001b[0m\n\u001b[1;32m----> 1\u001b[1;33m \u001b[0mclose_px\u001b[0m \u001b[1;33m=\u001b[0m \u001b[0maapl\u001b[0m\u001b[1;33m[\u001b[0m\u001b[1;34m'Adj Close'\u001b[0m\u001b[1;33m]\u001b[0m\u001b[1;33m\u001b[0m\u001b[0m\n\u001b[0m\u001b[0;32m      2\u001b[0m \u001b[0mget_ipython\u001b[0m\u001b[1;33m(\u001b[0m\u001b[1;33m)\u001b[0m\u001b[1;33m.\u001b[0m\u001b[0mmagic\u001b[0m\u001b[1;33m(\u001b[0m\u001b[1;34mu'matplotlib inline'\u001b[0m\u001b[1;33m)\u001b[0m\u001b[1;33m\u001b[0m\u001b[0m\n\u001b[0;32m      3\u001b[0m \u001b[0mmavg\u001b[0m \u001b[1;33m=\u001b[0m \u001b[0mpd\u001b[0m\u001b[1;33m.\u001b[0m\u001b[0mrolling_mean\u001b[0m\u001b[1;33m(\u001b[0m\u001b[0mclose_px\u001b[0m\u001b[1;33m,\u001b[0m \u001b[1;36m40\u001b[0m\u001b[1;33m)\u001b[0m\u001b[1;33m\u001b[0m\u001b[0m\n\u001b[0;32m      4\u001b[0m \u001b[0mmavg\u001b[0m\u001b[1;33m[\u001b[0m\u001b[1;33m-\u001b[0m\u001b[1;36m5\u001b[0m\u001b[1;33m:\u001b[0m\u001b[1;33m]\u001b[0m\u001b[1;33m\u001b[0m\u001b[0m\n\u001b[0;32m      5\u001b[0m \u001b[0mclose_px\u001b[0m\u001b[1;33m.\u001b[0m\u001b[0mplot\u001b[0m\u001b[1;33m(\u001b[0m\u001b[0mlabel\u001b[0m\u001b[1;33m=\u001b[0m\u001b[1;34m'AAPL'\u001b[0m\u001b[1;33m)\u001b[0m\u001b[1;33m\u001b[0m\u001b[0m\n",
        "\u001b[1;31mNameError\u001b[0m: name 'aapl' is not defined"
       ]
      }
     ],
     "prompt_number": 1
    },
    {
     "cell_type": "code",
     "collapsed": false,
     "input": [],
     "language": "python",
     "metadata": {},
     "outputs": []
    }
   ],
   "metadata": {}
  }
 ]
}